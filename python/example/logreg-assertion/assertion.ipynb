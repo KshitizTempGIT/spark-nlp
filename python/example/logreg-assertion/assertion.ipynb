{
 "cells": [
  {
   "cell_type": "code",
   "execution_count": 1,
   "metadata": {},
   "outputs": [],
   "source": [
    "import sys\n",
    "sys.path.append('../../')\n",
    "\n",
    "from pyspark.sql import SparkSession\n",
    "from pyspark.ml import Pipeline\n",
    "\n",
    "from sparknlp.annotator import *\n",
    "from sparknlp.common import *\n",
    "from sparknlp.base import *\n",
    "\n",
    "if sys.version_info[0] < 3:\n",
    "    from urllib import urlretrieve\n",
    "else:\n",
    "    from urllib.request import urlretrieve\n"
   ]
  },
  {
   "cell_type": "code",
   "execution_count": 2,
   "metadata": {},
   "outputs": [],
   "source": [
    "spark = SparkSession.builder \\\n",
    "    .appName(\"assertion-status\")\\\n",
    "    .master(\"local[2]\")\\\n",
    "    .config(\"spark.driver.memory\",\"4G\")\\\n",
    "    .config(\"spark.driver.maxResultSize\", \"2G\")\\\n",
    "    .config(\"spark.jar\", \"lib/sparknlp.jar\")\\\n",
    "    .config(\"spark.kryoserializer.buffer.max\", \"500m\")\\\n",
    "    .getOrCreate()"
   ]
  },
  {
   "cell_type": "raw",
   "metadata": {},
   "source": [
    "1. required imports.\n",
    "2. create spark session."
   ]
  },
  {
   "cell_type": "code",
   "execution_count": 3,
   "metadata": {},
   "outputs": [],
   "source": [
    "import time\n",
    "\n",
    "\n",
    "embeddingsFile = 'PubMed-shuffle-win-2.bin'\n",
    "embeddingsUrl = 'https://s3.amazonaws.com/auxdata.johnsnowlabs.com/PubMed-shuffle-win-2.bin'\n",
    "# this may take a couple minutes\n",
    "urlretrieve('https://tpc.googlesyndication.com/simgad/15370925399314456202', embeddingsFile)\n",
    "\n",
    "documentAssembler = DocumentAssembler()\\\n",
    "    .setInputCol(\"sentence\")\\\n",
    "    .setOutputCol(\"document\")\\\n",
    "\n",
    "assertion = AssertionLogRegApproach()\\\n",
    "    .setLabelCol(\"label\")\\\n",
    "    .setInputCols([\"document\"])\\\n",
    "    .setOutputCol(\"assertion\")\\\n",
    "    .setBefore(11)\\\n",
    "    .setAfter(13)\\\n",
    "    .setEmbeddingsSource(embeddingsFile,200,3)\n",
    "\n",
    "\n",
    "finisher = Finisher() \\\n",
    "    .setInputCols([\"assertion\"]) \\\n",
    "    .setIncludeKeys(True)\n",
    "\n",
    "pipeline = Pipeline(\n",
    "    stages = [\n",
    "    documentAssembler,\n",
    "    assertion,\n",
    "    finisher\n",
    "  ])\n"
   ]
  },
  {
   "cell_type": "code",
   "execution_count": 4,
   "metadata": {},
   "outputs": [
    {
     "name": "stdout",
     "output_type": "stream",
     "text": [
      "+--------------------+--------------------+--------+-----+---+\n",
      "|            sentence|              target|   label|start|end|\n",
      "+--------------------+--------------------+--------+-----+---+\n",
      "|**initials ______...|multinodular goit...|Affirmed|   21| 25|\n",
      "|02) mild aortic r...|mild aortic regur...|Affirmed|    1|  3|\n",
      "|02) mild left atr...|mild left atrial ...|Affirmed|    1|  4|\n",
      "|02) mild left atr...|mild left atrial ...|Affirmed|    1|  4|\n",
      "|02) mild to moder...|mild to moderate ...|Affirmed|    1|  5|\n",
      "|02) mild to moder...|mild to moderate ...|Affirmed|    1|  5|\n",
      "|02) no valvular a...|valvular abnormal...| Negated|    2|  3|\n",
      "|02) nondilated ri...|nondilated right ...|Affirmed|    1|  9|\n",
      "|02) normal left v...|normal left ventr...|Affirmed|    1|  4|\n",
      "|02) normal left v...|normal left ventr...|Affirmed|    1|  6|\n",
      "|02) paradoxical s...|post-operative se...|Affirmed|    6|  8|\n",
      "|02) small left ve...|small left ventri...|Affirmed|    1|  8|\n",
      "|03) mild mitral r...|mild mitral regur...|Affirmed|    1|  3|\n",
      "|03) mitral annula...|mitral annular ca...|Affirmed|    1|  3|\n",
      "|03) moderate left...|moderate left atr...|Affirmed|    1|  4|\n",
      "|03) normal pulmon...|normal pulmonary ...|Affirmed|    1|  5|\n",
      "|03) thickened aor...|thickened aortic ...|Affirmed|    1|  3|\n",
      "|03) thickened aor...|thickened aortic ...|Affirmed|    1|  6|\n",
      "|03) thickened aor...|thickened aortic ...|Affirmed|    1|  8|\n",
      "|03) thickened mit...|thickened mitral ...|Affirmed|    1|  6|\n",
      "+--------------------+--------------------+--------+-----+---+\n",
      "only showing top 20 rows\n",
      "\n"
     ]
    }
   ],
   "source": [
    "#Load the input data to be annotated\n",
    "data = spark. \\\n",
    "        read. \\\n",
    "        parquet(\"../../../src/test/resources/negex.parquet\"). \\\n",
    "        limit(3000)\n",
    "data.cache()\n",
    "data.count()\n",
    "data.show()"
   ]
  },
  {
   "cell_type": "code",
   "execution_count": 5,
   "metadata": {
    "scrolled": false
   },
   "outputs": [
    {
     "name": "stdout",
     "output_type": "stream",
     "text": [
      "Start fitting\n",
      "Fitting is ended\n"
     ]
    }
   ],
   "source": [
    "print(\"Start fitting\")\n",
    "model = pipeline.fit(data)\n",
    "print(\"Fitting is ended\")"
   ]
  },
  {
   "cell_type": "code",
   "execution_count": 6,
   "metadata": {},
   "outputs": [
    {
     "name": "stdout",
     "output_type": "stream",
     "text": [
      "+--------------------+--------------------+------------------+\n",
      "|            sentence|              target|finished_assertion|\n",
      "+--------------------+--------------------+------------------+\n",
      "|**initials ______...|multinodular goit...|  result->Affirmed|\n",
      "|02) mild aortic r...|mild aortic regur...|  result->Affirmed|\n",
      "|02) mild left atr...|mild left atrial ...|  result->Affirmed|\n",
      "|02) mild left atr...|mild left atrial ...|  result->Affirmed|\n",
      "|02) mild to moder...|mild to moderate ...|  result->Affirmed|\n",
      "|02) mild to moder...|mild to moderate ...|  result->Affirmed|\n",
      "|02) no valvular a...|valvular abnormal...|   result->Negated|\n",
      "|02) nondilated ri...|nondilated right ...|  result->Affirmed|\n",
      "|02) normal left v...|normal left ventr...|  result->Affirmed|\n",
      "|02) normal left v...|normal left ventr...|  result->Affirmed|\n",
      "|02) paradoxical s...|post-operative se...|  result->Affirmed|\n",
      "|02) small left ve...|small left ventri...|  result->Affirmed|\n",
      "|03) mild mitral r...|mild mitral regur...|  result->Affirmed|\n",
      "|03) mitral annula...|mitral annular ca...|  result->Affirmed|\n",
      "|03) moderate left...|moderate left atr...|  result->Affirmed|\n",
      "|03) normal pulmon...|normal pulmonary ...|  result->Affirmed|\n",
      "|03) thickened aor...|thickened aortic ...|  result->Affirmed|\n",
      "|03) thickened aor...|thickened aortic ...|  result->Affirmed|\n",
      "|03) thickened aor...|thickened aortic ...|  result->Affirmed|\n",
      "|03) thickened mit...|thickened mitral ...|  result->Affirmed|\n",
      "+--------------------+--------------------+------------------+\n",
      "only showing top 20 rows\n",
      "\n"
     ]
    }
   ],
   "source": [
    "result = model.transform(data)\n",
    "result.select(\"sentence\", \"target\", \"finished_assertion\").show()"
   ]
  },
  {
   "cell_type": "code",
   "execution_count": 7,
   "metadata": {},
   "outputs": [],
   "source": [
    "pipeline.write().overwrite().save(\"./assertion_pipeline\")\n",
    "model.write().overwrite().save(\"./assertion_model\")"
   ]
  },
  {
   "cell_type": "code",
   "execution_count": 8,
   "metadata": {
    "scrolled": false
   },
   "outputs": [],
   "source": [
    "from pyspark.ml import PipelineModel, Pipeline\n",
    "\n",
    "Pipeline.read().load(\"./assertion_pipeline\")\n",
    "sameModel = PipelineModel.read().load(\"./assertion_model\")"
   ]
  },
  {
   "cell_type": "code",
   "execution_count": null,
   "metadata": {},
   "outputs": [],
   "source": []
  }
 ],
 "metadata": {
  "anaconda-cloud": {},
  "kernelspec": {
   "display_name": "Python 2",
   "language": "python",
   "name": "python2"
  },
  "language_info": {
   "codemirror_mode": {
    "name": "ipython",
    "version": 2
   },
   "file_extension": ".py",
   "mimetype": "text/x-python",
   "name": "python",
   "nbconvert_exporter": "python",
   "pygments_lexer": "ipython2",
   "version": "2.7.12"
  }
 },
 "nbformat": 4,
 "nbformat_minor": 1
}
