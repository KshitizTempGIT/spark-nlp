{
 "cells": [
  {
   "cell_type": "code",
   "execution_count": 1,
   "metadata": {},
   "outputs": [
    {
     "name": "stdout",
     "output_type": "stream",
     "text": [
      "3.6.1 |Continuum Analytics, Inc.| (default, May 11 2017, 13:09:58) \n",
      "[GCC 4.4.7 20120313 (Red Hat 4.4.7-1)]\n"
     ]
    }
   ],
   "source": [
    "import os\n",
    "import sys\n",
    "sys.path.append('../../')\n",
    "\n",
    "print(sys.version)\n",
    "\n",
    "from sparknlp.pretrained import ResourceDownloader\n",
    "from sparknlp.base import DocumentAssembler\n",
    "from sparknlp.annotator import SentenceDetector\n",
    "\n",
    "from pyspark.sql import SparkSession\n",
    "\n",
    "spark = SparkSession.builder \\\n",
    "    .appName(\"downloader-example\")\\\n",
    "    .master(\"local[1]\")\\\n",
    "    .getOrCreate()\n",
    "\n",
    "# instantiate the downloader\n",
    "downloader = ResourceDownloader()\n"
   ]
  },
  {
   "cell_type": "code",
   "execution_count": 2,
   "metadata": {},
   "outputs": [],
   "source": [
    "# create some mock data to play with\n",
    "l = [\n",
    "  (1,'To be or not to be'),\n",
    "  (2,'This is it!')\n",
    "]\n",
    "\n",
    "data = spark.createDataFrame(l, ['docID','text'])"
   ]
  },
  {
   "cell_type": "code",
   "execution_count": 4,
   "metadata": {},
   "outputs": [
    {
     "name": "stdout",
     "output_type": "stream",
     "text": [
      "+-----+------------------+--------------------+\n",
      "|docID|              text|            document|\n",
      "+-----+------------------+--------------------+\n",
      "|    1|To be or not to be|[[document,0,17,T...|\n",
      "|    2|       This is it!|[[document,0,10,T...|\n",
      "+-----+------------------+--------------------+\n",
      "\n",
      "+-----+------------------+--------------------+--------------------+\n",
      "|docID|              text|            document|            sentence|\n",
      "+-----+------------------+--------------------+--------------------+\n",
      "|    1|To be or not to be|[[document,0,17,T...|[[document,0,17,T...|\n",
      "|    2|       This is it!|[[document,0,10,T...|[[document,0,10,T...|\n",
      "+-----+------------------+--------------------+--------------------+\n",
      "\n"
     ]
    }
   ],
   "source": [
    "# download directly - models\n",
    "\n",
    "# document assembler\n",
    "assembler = downloader.downloadModel(DocumentAssembler.reader, \"document_std\", \"en\")\n",
    "output = assembler.transform(data)\n",
    "output.show()\n",
    "\n",
    "\n",
    "# sentence detector\n",
    "detector = downloader.downloadModel(SentenceDetector.reader, \"sentence_std\", \"en\")\n",
    "detector.transform(output).show()\n"
   ]
  },
  {
   "cell_type": "code",
   "execution_count": 3,
   "metadata": {},
   "outputs": [
    {
     "name": "stdout",
     "output_type": "stream",
     "text": [
      "+-----+------------------+--------------------+--------------------+\n",
      "|docID|              text|            document|               token|\n",
      "+-----+------------------+--------------------+--------------------+\n",
      "|    1|To be or not to be|[[document,0,17,T...|[[token,0,1,To,Ma...|\n",
      "|    2|       This is it!|[[document,0,10,T...|[[token,0,3,This,...|\n",
      "+-----+------------------+--------------------+--------------------+\n",
      "\n"
     ]
    }
   ],
   "source": [
    "# download directly - pipeline models\n",
    "\n",
    "# simple pipeline with document assembler and tokenizer\n",
    "pipeline = downloader.downloadPipeline(\"pipeline_std\", \"en\")\n",
    "pipeline.transform(data).show()"
   ]
  },
  {
   "cell_type": "code",
   "execution_count": 3,
   "metadata": {},
   "outputs": [
    {
     "name": "stdout",
     "output_type": "stream",
     "text": [
      "+-----+------------------+--------------------+\n",
      "|docID|              text|            document|\n",
      "+-----+------------------+--------------------+\n",
      "|    1|To be or not to be|[[document,0,17,T...|\n",
      "|    2|       This is it!|[[document,0,10,T...|\n",
      "+-----+------------------+--------------------+\n",
      "\n"
     ]
    }
   ],
   "source": [
    "# download predefined - models\n",
    "from pretrained.en.models import DocumentAssembler\n",
    "assembler_std = DocumentAssembler.std()\n",
    "assembler_std.transform(data).show()"
   ]
  },
  {
   "cell_type": "code",
   "execution_count": 3,
   "metadata": {},
   "outputs": [
    {
     "name": "stdout",
     "output_type": "stream",
     "text": [
      "+-----+------------------+--------------------+--------------------+\n",
      "|docID|              text|            document|            sentence|\n",
      "+-----+------------------+--------------------+--------------------+\n",
      "|    1|To be or not to be|[[document,0,17,T...|[[document,0,17,T...|\n",
      "|    2|       This is it!|[[document,0,10,T...|[[document,0,10,T...|\n",
      "+-----+------------------+--------------------+--------------------+\n",
      "\n"
     ]
    }
   ],
   "source": [
    "# download predefined - pipelines models\n",
    "from pretrained.en.pipelines import SentenceDetector\n",
    "sent_detector_std = SentenceDetector.std()\n",
    "sent_detector_std.transform(data).show()"
   ]
  }
 ],
 "metadata": {
  "kernelspec": {
   "display_name": "Python 3",
   "language": "python",
   "name": "python3"
  },
  "language_info": {
   "codemirror_mode": {
    "name": "ipython",
    "version": 3
   },
   "file_extension": ".py",
   "mimetype": "text/x-python",
   "name": "python",
   "nbconvert_exporter": "python",
   "pygments_lexer": "ipython3",
   "version": "3.6.1"
  }
 },
 "nbformat": 4,
 "nbformat_minor": 2
}
