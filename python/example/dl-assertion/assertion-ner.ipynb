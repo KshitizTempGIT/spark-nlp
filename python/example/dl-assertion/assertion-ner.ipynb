{
 "cells": [
  {
   "cell_type": "code",
   "execution_count": 1,
   "metadata": {},
   "outputs": [],
   "source": [
    "import sys\n",
    "sys.path.append('../../')\n",
    "\n",
    "from pyspark.sql import SparkSession\n",
    "from pyspark.ml import Pipeline\n",
    "\n",
    "from sparknlp.annotator import *\n",
    "from sparknlp.common import *\n",
    "from sparknlp.base import *\n",
    "\n",
    "from pathlib import Path\n",
    "\n",
    "if sys.version_info[0] < 3:\n",
    "    from urllib import urlretrieve\n",
    "else:\n",
    "    from urllib.request import urlretrieve\n"
   ]
  },
  {
   "cell_type": "code",
   "execution_count": 2,
   "metadata": {},
   "outputs": [],
   "source": [
    "spark = SparkSession.builder \\\n",
    "    .appName(\"assertion-status\")\\\n",
    "    .master(\"local[2]\")\\\n",
    "    .config(\"spark.driver.memory\",\"4G\")\\\n",
    "    .config(\"spark.driver.maxResultSize\", \"2G\")\\\n",
    "    .config(\"spark.jar\", \"lib/sparknlp.jar\")\\\n",
    "    .getOrCreate()"
   ]
  },
  {
   "cell_type": "raw",
   "metadata": {},
   "source": [
    "1. required imports.\n",
    "2. create spark session."
   ]
  },
  {
   "cell_type": "code",
   "execution_count": 3,
   "metadata": {},
   "outputs": [],
   "source": [
    "import time\n",
    "\n",
    "\n",
    "embeddingsFile = 'PubMed-shuffle-win-2.bin'\n",
    "embeddingsUrl = 'https://s3.amazonaws.com/auxdata.johnsnowlabs.com/PubMed-shuffle-win-2.bin'\n",
    "# this may take a couple minutes\n",
    "if not Path(embeddingsFile).is_file():\n",
    "    urlretrieve(embeddingsUrl, embeddingsFile)\n",
    "\n",
    "documentAssembler = DocumentAssembler()\\\n",
    "    .setInputCol(\"sentence\")\\\n",
    "    .setOutputCol(\"document\")\\\n",
    "    \n",
    "tokenizer = Tokenizer()\\\n",
    "    .setInputCols([\"document\"])\\\n",
    "    .setOutputCol(\"token\")\n",
    "    \n",
    "pretrained_pos = PerceptronModel().pretrained()\\\n",
    "    .setInputCols([\"document\", \"token\"])\\\n",
    "    .setOutputCol(\"pos\")\n",
    "    \n",
    "pretrained_ner = NerCrfModel().pretrained()\\\n",
    "    .setInputCols([\"document\", \"token\", \"pos\"])\\\n",
    "    .setOutputCol(\"ner\")\n",
    "\n",
    "assertion = AssertionDLApproach()\\\n",
    "    .setLabelCol(\"label\")\\\n",
    "    .setInputCols([\"document\"])\\\n",
    "    .setOutputCol(\"assertion\")\\\n",
    "    .setBatchSize(16)\\\n",
    "    .setEpochs(5)\\\n",
    "    .setEmbeddingsSource(embeddingsFile,200,3) \\\n",
    "    .setNerCol(\"ner\")\n",
    "\n",
    "\n",
    "finisher = Finisher() \\\n",
    "    .setInputCols([\"assertion\"]) \\\n",
    "    .setIncludeKeys(True)\n",
    "\n",
    "pipeline = Pipeline(\n",
    "    stages = [\n",
    "    documentAssembler,\n",
    "    tokenizer,\n",
    "    pretrained_pos,\n",
    "    pretrained_ner,\n",
    "    assertion,\n",
    "    finisher\n",
    "  ])\n"
   ]
  },
  {
   "cell_type": "code",
   "execution_count": 4,
   "metadata": {},
   "outputs": [
    {
     "name": "stdout",
     "output_type": "stream",
     "text": [
      "+--------------------+--------------------+--------+-----+---+\n",
      "|            sentence|              target|   label|start|end|\n",
      "+--------------------+--------------------+--------+-----+---+\n",
      "|**initials ______...|multinodular goit...|Affirmed|   21| 25|\n",
      "|02) mild aortic r...|mild aortic regur...|Affirmed|    1|  3|\n",
      "|02) mild left atr...|mild left atrial ...|Affirmed|    1|  4|\n",
      "|02) mild left atr...|mild left atrial ...|Affirmed|    1|  4|\n",
      "|02) mild to moder...|mild to moderate ...|Affirmed|    1|  5|\n",
      "|02) mild to moder...|mild to moderate ...|Affirmed|    1|  5|\n",
      "|02) no valvular a...|valvular abnormal...| Negated|    2|  3|\n",
      "|02) nondilated ri...|nondilated right ...|Affirmed|    1|  9|\n",
      "|02) normal left v...|normal left ventr...|Affirmed|    1|  4|\n",
      "|02) normal left v...|normal left ventr...|Affirmed|    1|  6|\n",
      "|02) paradoxical s...|post-operative se...|Affirmed|    6|  8|\n",
      "|02) small left ve...|small left ventri...|Affirmed|    1|  8|\n",
      "|03) mild mitral r...|mild mitral regur...|Affirmed|    1|  3|\n",
      "|03) mitral annula...|mitral annular ca...|Affirmed|    1|  3|\n",
      "|03) moderate left...|moderate left atr...|Affirmed|    1|  4|\n",
      "|03) normal pulmon...|normal pulmonary ...|Affirmed|    1|  5|\n",
      "|03) thickened aor...|thickened aortic ...|Affirmed|    1|  3|\n",
      "|03) thickened aor...|thickened aortic ...|Affirmed|    1|  6|\n",
      "|03) thickened aor...|thickened aortic ...|Affirmed|    1|  8|\n",
      "|03) thickened mit...|thickened mitral ...|Affirmed|    1|  6|\n",
      "+--------------------+--------------------+--------+-----+---+\n",
      "only showing top 20 rows\n",
      "\n"
     ]
    }
   ],
   "source": [
    "#Load the input data to be annotated\n",
    "data = spark. \\\n",
    "        read. \\\n",
    "        parquet(\"../../../src/test/resources/negex.parquet\"). \\\n",
    "        limit(3000)\n",
    "data.cache()\n",
    "data.count()\n",
    "data.show()"
   ]
  },
  {
   "cell_type": "code",
   "execution_count": 5,
   "metadata": {
    "scrolled": false
   },
   "outputs": [
    {
     "name": "stdout",
     "output_type": "stream",
     "text": [
      "Start fitting\n"
     ]
    },
    {
     "name": "stderr",
     "output_type": "stream",
     "text": [
      "Exception ignored in: <bound method JavaParams.__del__ of PerceptronModel_4a4b82d309d3f5aa8ba4>\n",
      "Traceback (most recent call last):\n",
      "  File \"C:\\Users\\saifa\\apps\\spark-2.3.0-bin-hadoop2.7\\python\\pyspark\\ml\\wrapper.py\", line 105, in __del__\n",
      "    SparkContext._active_spark_context._gateway.detach(self._java_obj)\n",
      "  File \"C:\\Users\\saifa\\apps\\spark-2.3.0-bin-hadoop2.7\\python\\lib\\py4j-0.10.6-src.zip\\py4j\\java_gateway.py\", line 1897, in detach\n",
      "AttributeError: 'NoneType' object has no attribute '_detach'\n",
      "Exception ignored in: <bound method JavaParams.__del__ of NerCrfModel_4c679af5e56d78814730>\n",
      "Traceback (most recent call last):\n",
      "  File \"C:\\Users\\saifa\\apps\\spark-2.3.0-bin-hadoop2.7\\python\\pyspark\\ml\\wrapper.py\", line 105, in __del__\n",
      "    SparkContext._active_spark_context._gateway.detach(self._java_obj)\n",
      "  File \"C:\\Users\\saifa\\apps\\spark-2.3.0-bin-hadoop2.7\\python\\lib\\py4j-0.10.6-src.zip\\py4j\\java_gateway.py\", line 1897, in detach\n",
      "AttributeError: 'NoneType' object has no attribute '_detach'\n"
     ]
    },
    {
     "name": "stdout",
     "output_type": "stream",
     "text": [
      "Fitting is ended\n",
      "301.67993450164795\n"
     ]
    }
   ],
   "source": [
    "start = time.time()\n",
    "print(\"Start fitting\")\n",
    "model = pipeline.fit(data)\n",
    "print(\"Fitting is ended\")\n",
    "print (time.time() - start)"
   ]
  },
  {
   "cell_type": "code",
   "execution_count": 15,
   "metadata": {},
   "outputs": [],
   "source": [
    "model.stages[-1].setInputCols([\"assertion\", \"ner\"])"
   ]
  },
  {
   "cell_type": "code",
   "execution_count": 26,
   "metadata": {},
   "outputs": [
    {
     "data": {
      "text/plain": [
       "Row(sentence='Hello Peter how are you?', _text='Hello Peter how are you?', finished_assertion='result->Affirmed@result->Affirmed@result->Affirmed@result->Affirmed@result->Affirmed@result->Affirmed', finished_ner='word->Hello#result->I-PER@word->Peter#result->I-PER@word->how#result->O@word->are#result->O@word->you#result->O@word->?#result->O')"
      ]
     },
     "execution_count": 26,
     "metadata": {},
     "output_type": "execute_result"
    }
   ],
   "source": [
    "model.transform(spark.createDataFrame([[\"Hello Peter how are you?\"]]).toDF(\"sentence\")).take(1)[0]"
   ]
  },
  {
   "cell_type": "code",
   "execution_count": 21,
   "metadata": {},
   "outputs": [
    {
     "data": {
      "text/plain": [
       "Row(target='mild to moderate aortic regurgitation', finished_assertion='result->Affirmed@result->Affirmed@result->Affirmed@result->Affirmed@result->Affirmed@result->Affirmed@result->Affirmed', finished_ner='word->02#result->O@word->)#result->O@word->mild#result->O@word->to#result->O@word->moderate#result->O@word->aortic#result->O@word->regurgitation#result->O')"
      ]
     },
     "execution_count": 21,
     "metadata": {},
     "output_type": "execute_result"
    }
   ],
   "source": [
    "result = model.transform(data)\n",
    "result.select(\"target\", \"finished_assertion\", \"finished_ner\").take(10)[4]"
   ]
  },
  {
   "cell_type": "code",
   "execution_count": 7,
   "metadata": {},
   "outputs": [],
   "source": [
    "pipeline.write().overwrite().save(\"./assertion_pipeline\")\n",
    "model.write().overwrite().save(\"./assertion_model\")"
   ]
  },
  {
   "cell_type": "code",
   "execution_count": null,
   "metadata": {
    "scrolled": false
   },
   "outputs": [],
   "source": [
    "from pyspark.ml import PipelineModel, Pipeline\n",
    "\n",
    "Pipeline.read().load(\"./assertion_pipeline\")\n",
    "sameModel = PipelineModel.read().load(\"./assertion_model\")"
   ]
  },
  {
   "cell_type": "code",
   "execution_count": null,
   "metadata": {},
   "outputs": [],
   "source": [
    "sameModel.transform(data).select(\"sentence\", \"target\", \"finished_assertion\").show()"
   ]
  },
  {
   "cell_type": "code",
   "execution_count": null,
   "metadata": {},
   "outputs": [],
   "source": []
  }
 ],
 "metadata": {
  "anaconda-cloud": {},
  "kernelspec": {
   "display_name": "Python 3",
   "language": "python",
   "name": "python3"
  },
  "language_info": {
   "codemirror_mode": {
    "name": "ipython",
    "version": 3
   },
   "file_extension": ".py",
   "mimetype": "text/x-python",
   "name": "python",
   "nbconvert_exporter": "python",
   "pygments_lexer": "ipython3",
   "version": "3.6.3"
  }
 },
 "nbformat": 4,
 "nbformat_minor": 1
}
