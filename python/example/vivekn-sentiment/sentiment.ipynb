{
 "cells": [
  {
   "cell_type": "code",
   "execution_count": 1,
   "metadata": {
    "collapsed": true
   },
   "outputs": [],
   "source": [
    "#Imports\n",
    "import time\n",
    "import sys\n",
    "sys.path.append('../../')\n",
    "\n",
    "from pyspark.ml import Pipeline, PipelineModel\n",
    "from sparknlp.annotator import *\n",
    "from sparknlp.base import DocumentAssembler, Finisher\n"
   ]
  },
  {
   "cell_type": "code",
   "execution_count": 2,
   "metadata": {},
   "outputs": [
    {
     "name": "stdout",
     "output_type": "stream",
     "text": [
      "+------+---------+--------------------+\n",
      "|itemid|sentiment|                text|\n",
      "+------+---------+--------------------+\n",
      "|     1|        0|                 ...|\n",
      "|     2|        0|                 ...|\n",
      "|     3|        1|              omg...|\n",
      "|     4|        0|          .. Omga...|\n",
      "|     5|        0|         i think ...|\n",
      "|     6|        0|         or i jus...|\n",
      "|     7|        1|       Juuuuuuuuu...|\n",
      "|     8|        0|       Sunny Agai...|\n",
      "|     9|        1|      handed in m...|\n",
      "|    10|        1|      hmmmm.... i...|\n",
      "|    11|        0|      I must thin...|\n",
      "|    12|        1|      thanks to a...|\n",
      "|    13|        0|      this weeken...|\n",
      "|    14|        0|     jb isnt show...|\n",
      "|    15|        0|     ok thats it ...|\n",
      "|    16|        0|    &lt;-------- ...|\n",
      "|    17|        0|    awhhe man.......|\n",
      "|    18|        1|    Feeling stran...|\n",
      "|    19|        0|    HUGE roll of ...|\n",
      "|    20|        0|    I just cut my...|\n",
      "+------+---------+--------------------+\n",
      "only showing top 20 rows\n",
      "\n"
     ]
    }
   ],
   "source": [
    "#Load the input data to be annotated\n",
    "data = spark. \\\n",
    "        read. \\\n",
    "        parquet(\"../../../src/test/resources/sentiment.parquet\"). \\\n",
    "        limit(1000)\n",
    "data.cache()\n",
    "data.count()\n",
    "data.show()"
   ]
  },
  {
   "cell_type": "code",
   "execution_count": 3,
   "metadata": {
    "collapsed": true
   },
   "outputs": [],
   "source": [
    "### Define the dataframe\n",
    "document_assembler = DocumentAssembler() \\\n",
    "            .setInputCol(\"text\")\n",
    "        \n",
    "### Transform input to appropriate schema\n",
    "#assembled = document_assembler.transform(data)"
   ]
  },
  {
   "cell_type": "code",
   "execution_count": 4,
   "metadata": {
    "collapsed": true
   },
   "outputs": [],
   "source": [
    "### Sentence detector\n",
    "sentence_detector = SentenceDetector() \\\n",
    "    .setInputCols([\"document\"]) \\\n",
    "    .setOutputCol(\"sentence\")\n",
    "#sentence_data = sentence_detector.transform(checked)"
   ]
  },
  {
   "cell_type": "code",
   "execution_count": 5,
   "metadata": {
    "collapsed": true
   },
   "outputs": [],
   "source": [
    "### Tokenizer\n",
    "tokenizer = Tokenizer() \\\n",
    "            .setInputCols([\"sentence\"]) \\\n",
    "            .setOutputCol(\"token\")\n",
    "#tokenized = tokenizer.transform(assembled)"
   ]
  },
  {
   "cell_type": "code",
   "execution_count": 6,
   "metadata": {
    "collapsed": true
   },
   "outputs": [],
   "source": [
    "normalizer = Normalizer() \\\n",
    "            .setInputCols([\"token\"]) \\\n",
    "            .setOutputCol(\"normal\")"
   ]
  },
  {
   "cell_type": "code",
   "execution_count": 7,
   "metadata": {
    "collapsed": true
   },
   "outputs": [],
   "source": [
    "### Spell Checker\n",
    "spell_checker = NorvigSweetingApproach() \\\n",
    "            .setInputCols([\"normal\"]) \\\n",
    "            .setOutputCol(\"spell\")\n",
    "\n",
    "#checked = spell_checker.fit(tokenized).transform(tokenized)"
   ]
  },
  {
   "cell_type": "code",
   "execution_count": 8,
   "metadata": {
    "collapsed": true
   },
   "outputs": [],
   "source": [
    "sentiment_detector = ViveknSentimentApproach() \\\n",
    "    .setInputCols([\"spell\", \"sentence\"]) \\\n",
    "    .setOutputCol(\"sentiment\") \\\n",
    "    .setPruneCorpus(0) \\\n",
    "    .setPositiveSource(\"../../../src/test/resources/vivekn/positive\") \\\n",
    "    .setNegativeSource(\"../../../src/test/resources/vivekn/negative\") \\\n"
   ]
  },
  {
   "cell_type": "code",
   "execution_count": 9,
   "metadata": {
    "collapsed": true
   },
   "outputs": [],
   "source": [
    "pos = PerceptronApproach() \\\n",
    "    .setInputCols([\"sentence\", \"spell\"]) \\\n",
    "    .setOutputCol(\"pos\")"
   ]
  },
  {
   "cell_type": "code",
   "execution_count": 10,
   "metadata": {
    "collapsed": true
   },
   "outputs": [],
   "source": [
    "finisher = Finisher() \\\n",
    "    .setInputCols([\"sentiment\"]) \\\n",
    "    .setIncludeKeys(True)"
   ]
  },
  {
   "cell_type": "code",
   "execution_count": 11,
   "metadata": {},
   "outputs": [
    {
     "name": "stdout",
     "output_type": "stream",
     "text": [
      "+------+--------------------+--------------------+\n",
      "|itemid|                text|  finished_sentiment|\n",
      "+------+--------------------+--------------------+\n",
      "|     1|                 ...|    result->positive|\n",
      "|     2|                 ...|    result->positive|\n",
      "|     3|              omg...|    result->positive|\n",
      "|     4|          .. Omga...|result->positive@...|\n",
      "|     5|         i think ...|result->positive@...|\n",
      "|     6|         or i jus...|    result->positive|\n",
      "|     7|       Juuuuuuuuu...|    result->positive|\n",
      "|     8|       Sunny Agai...|    result->positive|\n",
      "|     9|      handed in m...|result->positive@...|\n",
      "|    10|      hmmmm.... i...|result->positive@...|\n",
      "|    11|      I must thin...|    result->positive|\n",
      "|    12|      thanks to a...|    result->positive|\n",
      "|    13|      this weeken...|    result->positive|\n",
      "|    14|     jb isnt show...|    result->positive|\n",
      "|    15|     ok thats it ...|    result->positive|\n",
      "|    16|    &lt;-------- ...|result->positive@...|\n",
      "|    17|    awhhe man.......|result->positive@...|\n",
      "|    18|    Feeling stran...|result->positive@...|\n",
      "|    19|    HUGE roll of ...|result->positive@...|\n",
      "|    20|    I just cut my...|result->positive@...|\n",
      "+------+--------------------+--------------------+\n",
      "only showing top 20 rows\n",
      "\n",
      "Time elapsed pipeline process: 52.35951900482178\n"
     ]
    }
   ],
   "source": [
    "pipeline = Pipeline(stages=[\n",
    "    document_assembler,\n",
    "    sentence_detector,\n",
    "    tokenizer,\n",
    "    normalizer,\n",
    "    spell_checker,\n",
    "    sentiment_detector,\n",
    "    pos,\n",
    "    finisher\n",
    "])\n",
    "\n",
    "start = time.time()\n",
    "sentiment_data = pipeline.fit(data).transform(data)\n",
    "sentiment_data.show()\n",
    "end = time.time()\n",
    "print(\"Time elapsed pipeline process: \" + str(end - start))"
   ]
  },
  {
   "cell_type": "code",
   "execution_count": 12,
   "metadata": {},
   "outputs": [
    {
     "name": "stdout",
     "output_type": "stream",
     "text": [
      "Row(itemid=1, text='                     is so sad for my APL friend.............', finished_sentiment='result->positive')\n",
      "Row(itemid=2, text='                   I missed the New Moon trailer...', finished_sentiment='result->positive')\n",
      "Row(itemid=3, text='              omg its already 7:30 :O', finished_sentiment='result->positive')\n",
      "Row(itemid=4, text=\"          .. Omgaga. Im sooo  im gunna CRy. I've been at this dentist since 11.. I was suposed 2 just get a crown put on (30mins)...\", finished_sentiment='result->positive@result->positive@result->positive@result->negative')\n",
      "Row(itemid=5, text='         i think mi bf is cheating on me!!!       T_T', finished_sentiment='result->positive@result->positive')\n"
     ]
    }
   ],
   "source": [
    "for r in sentiment_data.take(5):\n",
    "    print(r)"
   ]
  },
  {
   "cell_type": "code",
   "execution_count": 13,
   "metadata": {},
   "outputs": [
    {
     "name": "stdout",
     "output_type": "stream",
     "text": [
      "Time elapsed in write pipelines: 81.64870238304138\n"
     ]
    }
   ],
   "source": [
    "start = time.time()\n",
    "pipeline.write().overwrite().save(\"./ps\")\n",
    "pipeline.fit(data).write().overwrite().save(\"./ms\")\n",
    "end = time.time()\n",
    "print(\"Time elapsed in write pipelines: \" + str(end - start))"
   ]
  },
  {
   "cell_type": "code",
   "execution_count": 14,
   "metadata": {},
   "outputs": [
    {
     "name": "stdout",
     "output_type": "stream",
     "text": [
      "Time elapsed in read pipelines: 5.008911848068237\n"
     ]
    }
   ],
   "source": [
    "start = time.time()\n",
    "p = Pipeline.read().load(\"./ps\")\n",
    "pm = PipelineModel.read().load(\"./ms\")\n",
    "end = time.time()\n",
    "print(\"Time elapsed in read pipelines: \" + str(end - start))"
   ]
  },
  {
   "cell_type": "code",
   "execution_count": 15,
   "metadata": {},
   "outputs": [
    {
     "name": "stdout",
     "output_type": "stream",
     "text": [
      "+------+--------------------+--------------------+\n",
      "|itemid|                text|  finished_sentiment|\n",
      "+------+--------------------+--------------------+\n",
      "|     1|                 ...|    result->positive|\n",
      "|     2|                 ...|    result->positive|\n",
      "|     3|              omg...|    result->positive|\n",
      "|     5|         i think ...|result->positive@...|\n",
      "|     6|         or i jus...|    result->positive|\n",
      "|     7|       Juuuuuuuuu...|    result->positive|\n",
      "|     8|       Sunny Agai...|    result->positive|\n",
      "|     9|      handed in m...|result->positive@...|\n",
      "|    10|      hmmmm.... i...|result->positive@...|\n",
      "|    11|      I must thin...|    result->positive|\n",
      "|    12|      thanks to a...|    result->positive|\n",
      "|    13|      this weeken...|    result->positive|\n",
      "|    14|     jb isnt show...|    result->positive|\n",
      "|    15|     ok thats it ...|    result->positive|\n",
      "|    16|    &lt;-------- ...|result->positive@...|\n",
      "|    17|    awhhe man.......|result->positive@...|\n",
      "|    18|    Feeling stran...|result->positive@...|\n",
      "|    19|    HUGE roll of ...|result->positive@...|\n",
      "|    20|    I just cut my...|result->positive@...|\n",
      "|    21|    Very sad abou...|    result->positive|\n",
      "+------+--------------------+--------------------+\n",
      "only showing top 20 rows\n",
      "\n",
      "1000\n",
      "Time elapsed in using loaded pipelines: 0.8429369926452637\n"
     ]
    }
   ],
   "source": [
    "start = time.time()\n",
    "pm.transform(data).where(\"finished_sentiment not like '%negative%'\").show()\n",
    "print(pm.transform(data).count())\n",
    "end = time.time()\n",
    "print(\"Time elapsed in using loaded pipelines: \" + str(end - start))"
   ]
  },
  {
   "cell_type": "code",
   "execution_count": null,
   "metadata": {
    "collapsed": true
   },
   "outputs": [],
   "source": []
  }
 ],
 "metadata": {
  "anaconda-cloud": {},
  "kernelspec": {
   "display_name": "Python 3",
   "language": "python",
   "name": "python3"
  },
  "language_info": {
   "codemirror_mode": {
    "name": "ipython",
    "version": 3
   },
   "file_extension": ".py",
   "mimetype": "text/x-python",
   "name": "python",
   "nbconvert_exporter": "python",
   "pygments_lexer": "ipython3",
   "version": "3.5.2"
  }
 },
 "nbformat": 4,
 "nbformat_minor": 2
}
